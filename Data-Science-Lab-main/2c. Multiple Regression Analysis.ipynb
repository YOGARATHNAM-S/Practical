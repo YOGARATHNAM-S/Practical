{
 "cells": [
  {
   "cell_type": "markdown",
   "metadata": {},
   "source": [
    "Multiple Regression Analysis"
   ]
  },
  {
   "cell_type": "code",
   "execution_count": 61,
   "metadata": {},
   "outputs": [
    {
     "name": "stdout",
     "output_type": "stream",
     "text": [
      "[0.02841926]\n"
     ]
    }
   ],
   "source": [
    "import pandas\n",
    "from sklearn import linear_model\n",
    "\n",
    "df = pandas.read_csv(\"diabetes.csv\")\n",
    "\n",
    "X = df[['Glucose', 'BloodPressure']]\n",
    "y = df['Outcome']\n",
    "\n",
    "regr = linear_model.LinearRegression()\n",
    "regr.fit(X, y)\n",
    "\n",
    "#predict the Outcome when Glucose is 175 and BloodPressure is 92\n",
    "predictedOutcome = regr.predict([[75, 72]])\n",
    "\n",
    "print(predictedOutcome)"
   ]
  },
  {
   "cell_type": "code",
   "execution_count": null,
   "metadata": {},
   "outputs": [],
   "source": []
  },
  {
   "cell_type": "code",
   "execution_count": null,
   "metadata": {},
   "outputs": [],
   "source": []
  }
 ],
 "metadata": {
  "kernelspec": {
   "display_name": "Python 3",
   "language": "python",
   "name": "python3"
  },
  "language_info": {
   "codemirror_mode": {
    "name": "ipython",
    "version": 3
   },
   "file_extension": ".py",
   "mimetype": "text/x-python",
   "name": "python",
   "nbconvert_exporter": "python",
   "pygments_lexer": "ipython3",
   "version": "3.8.5"
  }
 },
 "nbformat": 4,
 "nbformat_minor": 4
}
